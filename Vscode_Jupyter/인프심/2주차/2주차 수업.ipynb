{
 "cells": [
  {
   "cell_type": "code",
   "execution_count": 1,
   "id": "0832907a-6386-473d-ab91-395dccc1cc57",
   "metadata": {},
   "outputs": [
    {
     "name": "stdout",
     "output_type": "stream",
     "text": [
      "[0.31682708 0.69627909]\n"
     ]
    }
   ],
   "source": [
    "import numpy as np\n",
    "import random\n",
    "def step_F(x):\n",
    "    if x>0:\n",
    "        return 1\n",
    "    else:\n",
    "        return 0\n",
    "\n",
    "def sigmoid(x):\n",
    "    return 1/ (1+np.exp(-x))   # np.exp() = 지수함수 변환 e^(-x)\n",
    "\n",
    "def identity_function(x):\n",
    "    return x\n",
    "\n",
    "def init_network():\n",
    "    network = {}\n",
    "    network['w1']=np.array([ [0.1, 0.3, 0.5], [0.2, 0.4, 0.6] ])\n",
    "    network['b1']=np.array([0.1, 0.2, 0.3])\n",
    "    \n",
    "    network['w2']=np.array([ [0.1, 0.4], [0.2, 0.5], [0.3, 0.6] ])\n",
    "    network['b2']=np.array([0.1, 0.2])\n",
    "\n",
    "    network['w3']=np.array([ [0.1, 0.3], [0.2, 0.4] ])\n",
    "    network['b3']=np.array([0.1, 0.2])\n",
    "    return network\n",
    "\n",
    "def forward(network, x): #OR의 결과값을 AND 연산시킴\n",
    "    w1, w2, w3 = network['w1'], network['w2'], network['w3']\n",
    "    b1, b2, b3 = network['b1'], network['b2'], network['b3']\n",
    "    a1=np.dot(x, w1) + b1\n",
    "    z1=sigmoid(a1)\n",
    "    a2=np.dot(z1, w2) + b2\n",
    "    z2=sigmoid(a2)\n",
    "    a3=np.dot(z2, w3) + b3\n",
    "    z3=sigmoid(a3)\n",
    "    y = identity_function(a3)\n",
    "    return y\n",
    "network = init_network()\n",
    "x=np.array([1.0, 0.5])\n",
    "y=forward(network, x)\n",
    "print(y)"
   ]
  },
  {
   "cell_type": "code",
   "execution_count": 2,
   "id": "1ac68810-4273-4efd-b217-dd7e00709103",
   "metadata": {},
   "outputs": [
    {
     "data": {
      "text/plain": [
       "array([0.40625907, 0.59374093])"
      ]
     },
     "execution_count": 2,
     "metadata": {},
     "output_type": "execute_result"
    }
   ],
   "source": [
    "def softmax(a):\n",
    "    c=np.max(a)\n",
    "    exp_a=np.exp(a-c)\n",
    "    sum_exp_a=np.sum(exp_a)\n",
    "    y=exp_a / sum_exp_a\n",
    "    return y\n",
    "softmax(y)"
   ]
  },
  {
   "cell_type": "markdown",
   "id": "0cf249f5-b8ea-46d2-95eb-8438366ccbd4",
   "metadata": {},
   "source": [
    "###신경망 코드를 단층 퍼셉트론으로 재구성"
   ]
  },
  {
   "cell_type": "code",
   "execution_count": 3,
   "id": "992fb423-af2f-4be6-bd94-689526640767",
   "metadata": {},
   "outputs": [],
   "source": [
    "def init_perceptron(m, n, bvar): #(W1, W2, bias)\n",
    "    pct = {}\n",
    "    pct['w1']=np.array([m, n])\n",
    "    #pct['w1']=np.array([0, 1]) #원래 np.array([ [0], [1] ]) 이렇게 해야 함\n",
    "    pct['b1']=bvar\n",
    "    return pct\n",
    "    \n",
    "def pforward(pct, x):\n",
    "    w1=pct['w1']\n",
    "    b1=pct['b1']\n",
    "    a1=np.dot(x, w1)+b1\n",
    "    z1=step_F(a1)\n",
    "    return z1"
   ]
  },
  {
   "cell_type": "code",
   "execution_count": 4,
   "id": "4e95a451-0db1-4676-80a2-ad4f85404cb4",
   "metadata": {},
   "outputs": [
    {
     "name": "stdout",
     "output_type": "stream",
     "text": [
      "0\n",
      "1\n",
      "1\n",
      "1\n"
     ]
    }
   ],
   "source": [
    "#OR 게이트\n",
    "pct = init_perceptron(0.5, 0.5, -0.3)\n",
    "x = np.array([0,0])\n",
    "print(pforward(pct, x))\n",
    "\n",
    "x = np.array([0,1])\n",
    "print(pforward(pct, x))\n",
    "\n",
    "x = np.array([1,0])\n",
    "print(pforward(pct, x))\n",
    "\n",
    "x = np.array([1,1])\n",
    "print(pforward(pct, x))"
   ]
  },
  {
   "cell_type": "code",
   "execution_count": 5,
   "id": "2f0d9098-ac38-475c-a1bc-92c240ccd186",
   "metadata": {},
   "outputs": [
    {
     "name": "stdout",
     "output_type": "stream",
     "text": [
      "0\n",
      "0\n",
      "0\n",
      "1\n"
     ]
    }
   ],
   "source": [
    "#AND 게이트\n",
    "pct = init_perceptron(0.5, 0.5, -0.7)\n",
    "\n",
    "x = np.array([0,0])\n",
    "print(pforward(pct, x))\n",
    "\n",
    "x = np.array([0,1])\n",
    "print(pforward(pct, x))\n",
    "\n",
    "x = np.array([1,0])\n",
    "print(pforward(pct, x))\n",
    "\n",
    "x = np.array([1,1])\n",
    "print(pforward(pct, x))"
   ]
  },
  {
   "cell_type": "code",
   "execution_count": 6,
   "id": "e49eb1b7-9de7-43db-9634-e48f0c616e8e",
   "metadata": {},
   "outputs": [
    {
     "name": "stdout",
     "output_type": "stream",
     "text": [
      "1\n",
      "1\n",
      "1\n",
      "0\n"
     ]
    }
   ],
   "source": [
    "#NAND 게이트\n",
    "pct = init_perceptron(-0.5, -0.5, 0.7)\n",
    "\n",
    "x = np.array([0,0])\n",
    "print(pforward(pct, x))\n",
    "\n",
    "x = np.array([0,1])\n",
    "print(pforward(pct, x))\n",
    "\n",
    "x = np.array([1,0])\n",
    "print(pforward(pct, x))\n",
    "\n",
    "x = np.array([1,1])\n",
    "print(pforward(pct, x))"
   ]
  },
  {
   "cell_type": "code",
   "execution_count": 7,
   "id": "64c12371-18f4-4320-a08f-3ae1a2bc2303",
   "metadata": {},
   "outputs": [],
   "source": [
    "### 오늘의 연습\n",
    "### 수업에서 구현한 2입력 OR, AND, NAND 게이트를 활용하여 XOR 게이트를 구성\n",
    "### 단, 가중치와 편향값은 임의로 지정\n",
    "### OR나 AND 기준으로 편향값을 0과 1사이로 제시, 그에 따른 가중치 지정\n",
    "### 편향값 제시할 시 난수로 하면 좋음ㅇㅇ"
   ]
  },
  {
   "cell_type": "code",
   "execution_count": 8,
   "id": "1d79daa3-fd2d-43f8-ba0d-234e6c803c17",
   "metadata": {},
   "outputs": [],
   "source": [
    "#bias의 절댓값을 난수로 지정, 부호는 게이트의 성격에 맞게 조정\n",
    "#W1과 W2의 값을 코드로 지정"
   ]
  }
 ],
 "metadata": {
  "kernelspec": {
   "display_name": "Python 3 (ipykernel)",
   "language": "python",
   "name": "python3"
  },
  "language_info": {
   "codemirror_mode": {
    "name": "ipython",
    "version": 3
   },
   "file_extension": ".py",
   "mimetype": "text/x-python",
   "name": "python",
   "nbconvert_exporter": "python",
   "pygments_lexer": "ipython3",
   "version": "3.12.4"
  }
 },
 "nbformat": 4,
 "nbformat_minor": 5
}
