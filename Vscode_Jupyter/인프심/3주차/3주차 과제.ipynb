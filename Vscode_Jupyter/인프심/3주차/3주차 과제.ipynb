{
 "cells": [
  {
   "cell_type": "code",
   "execution_count": null,
   "metadata": {},
   "outputs": [],
   "source": [
    "### 오늘의 연습\n",
    "### AND 게이트 코드에서\n",
    "### w1, w2, b 값을 난수로 지정하고\n",
    "### 값을 조율하여 0, 0, 0, 1이 도출되도록 코드 변형"
   ]
  },
  {
   "cell_type": "code",
   "execution_count": 9,
   "metadata": {},
   "outputs": [
    {
     "name": "stdout",
     "output_type": "stream",
     "text": [
      "0 AND 0 = 0\n",
      "\n",
      "0 AND 1 = 0\n",
      "\n",
      "1 AND 0 = 0\n",
      "\n",
      "1 AND 1 = 1\n",
      "\n"
     ]
    }
   ],
   "source": [
    "#잘못 계산된 결과는 제외하고 정상 결과만 출력되도록 while문 돌림\n",
    "import numpy as np\n",
    "\n",
    "def AND(x1, x2, w1):\n",
    "    x = np.array([x1, x2])\n",
    "    w = w1\n",
    "    b = -np.random.randint(1, 10)/10\n",
    "    tmp = np.sum(w*x)+b\n",
    "    if tmp<=0:\n",
    "        return 0\n",
    "    else:\n",
    "        return 1\n",
    "\n",
    "ANDarr = [2]*4\n",
    "\n",
    "while(True):\n",
    "    Weight = np.array([np.random.randint(1, 10), np.random.randint(1, 10)])/10\n",
    "    ANDarr[0] = AND(0,0, Weight)\n",
    "    ANDarr[1] = AND(0,1, Weight)\n",
    "    ANDarr[2] = AND(1,0, Weight)\n",
    "    ANDarr[3] = AND(1,1, Weight)\n",
    "    if ANDarr[0] != 0 or ANDarr[1] != 0 or ANDarr[2] != 0 or ANDarr[3] != 1:\n",
    "        continue\n",
    "    else:\n",
    "        break\n",
    "print(\"0 AND 0 = %d\\n\"%ANDarr[0])\n",
    "print(\"0 AND 1 = %d\\n\"%ANDarr[1])\n",
    "print(\"1 AND 0 = %d\\n\"%ANDarr[2])\n",
    "print(\"1 AND 1 = %d\\n\"%ANDarr[3])"
   ]
  }
 ],
 "metadata": {
  "kernelspec": {
   "display_name": "Python 3",
   "language": "python",
   "name": "python3"
  },
  "language_info": {
   "codemirror_mode": {
    "name": "ipython",
    "version": 3
   },
   "file_extension": ".py",
   "mimetype": "text/x-python",
   "name": "python",
   "nbconvert_exporter": "python",
   "pygments_lexer": "ipython3",
   "version": "3.12.4"
  }
 },
 "nbformat": 4,
 "nbformat_minor": 2
}
